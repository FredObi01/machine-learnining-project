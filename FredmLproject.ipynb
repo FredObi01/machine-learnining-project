{
  "nbformat": 4,
  "nbformat_minor": 0,
  "metadata": {
    "colab": {
      "provenance": [],
      "authorship_tag": "ABX9TyNDXCovZuzpTs+OWrTMF+bb",
      "include_colab_link": true
    },
    "kernelspec": {
      "name": "python3",
      "display_name": "Python 3"
    },
    "language_info": {
      "name": "python"
    }
  },
  "cells": [
    {
      "cell_type": "markdown",
      "metadata": {
        "id": "view-in-github",
        "colab_type": "text"
      },
      "source": [
        "<a href=\"https://colab.research.google.com/github/FredObi01/machine-learnining-project/blob/main/FredmLproject.ipynb\" target=\"_parent\"><img src=\"https://colab.research.google.com/assets/colab-badge.svg\" alt=\"Open In Colab\"/></a>"
      ]
    },
    {
      "cell_type": "code",
      "execution_count": null,
      "metadata": {
        "id": "VikRWzn_6B8-"
      },
      "outputs": [],
      "source": [
        "'''The project focuses on understanding cancer and its medications\n",
        " available. To show the countries affected by cancer we would not need\n",
        " a specific model. We will be using the No free lunch theorem and just use the\n",
        "  linear regression between the two columns to show the column dependencies on each other\n",
        "  as well as find out the linear regression affecting the dependencies '''"
      ]
    },
    {
      "cell_type": "code",
      "source": [
        "import warnings\n",
        "warnings.filterwarnings('ignore')\n",
        "import numpy as np\n",
        "import pandas as pd\n",
        "cancer database(1)_df = pd.read_csv(\"cancer database(1).csv\")\n",
        "cancer database(1)_df.head()\n"
      ],
      "metadata": {
        "colab": {
          "base_uri": "https://localhost:8080/",
          "height": 140
        },
        "id": "SyPZmQpx8KPM",
        "outputId": "1405e49b-6632-49c2-88fd-ff651da4fc8a"
      },
      "execution_count": 6,
      "outputs": [
        {
          "output_type": "error",
          "ename": "SyntaxError",
          "evalue": "ignored",
          "traceback": [
            "\u001b[0;36m  File \u001b[0;32m\"<ipython-input-6-a12cc3a0f24c>\"\u001b[0;36m, line \u001b[0;32m5\u001b[0m\n\u001b[0;31m    cancer database(1)_df = pd.read_csv(\"cancer database(1).csv\")\u001b[0m\n\u001b[0m           ^\u001b[0m\n\u001b[0;31mSyntaxError\u001b[0m\u001b[0;31m:\u001b[0m invalid syntax\n"
          ]
        }
      ]
    }
  ]
}